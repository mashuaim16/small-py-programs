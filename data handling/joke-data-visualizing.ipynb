{
 "cells": [
  {
   "cell_type": "code",
   "execution_count": 59,
   "metadata": {},
   "outputs": [],
   "source": [
    "import numpy as np\n",
    "import pandas as pd\n",
    "import matplotlib.pyplot as plt\n",
    "import seaborn as sns\n",
    "\n",
    "\n",
    "df = pd.read_excel('file:/Users/Brian/Desktop/jester-data-1.xls',header=None)\n",
    "\n",
    "#在LOC（0）， 加column\n",
    "df.insert(loc=0, column='idn', value=(np.arange(len(df))))\n",
    "df['idn'] = df['idn'].apply(lambda x: \"user \" + str(x))\n"
   ]
  },
  {
   "cell_type": "code",
   "execution_count": 60,
   "metadata": {},
   "outputs": [],
   "source": [
    "#以IDN为INDEX, 排序这个dataset\n",
    "df.set_index('idn', inplace = True)\n",
    "\n",
    "#drop第一列（joke rated counts for the users）\n",
    "df.drop(columns=[0],inplace=True)\n",
    "\n",
    "# to replace all values in a dataframe (replace 99 with 0)\n",
    "df.replace(99.00, 0, inplace=True)\n",
    "\n",
    "#加column，展示mean和SUM\n",
    "col_list = list(df)\n",
    "df['sum']=df[col_list].sum(axis=1)\n",
    "df['mean']=df[col_list].mean(axis=1)\n",
    "\n",
    "#在 DATASET底部加上MEAN OR SUM 等等\n",
    "df = df.append(df.agg(['mean']))\n",
    "\n",
    "# in two decimal format\n",
    "\n",
    "#print (df.round(2))\n",
    "\n"
   ]
  },
  {
   "cell_type": "code",
   "execution_count": 65,
   "metadata": {},
   "outputs": [],
   "source": [
    "#定位user1\n",
    "user1 = df.iloc[1][0:100]\n",
    "#确定user1的DF\n",
    "user=pd.DataFrame({\"joke#\":user1.index,\"ratings\":user1.values})"
   ]
  },
  {
   "cell_type": "code",
   "execution_count": 64,
   "metadata": {},
   "outputs": [
    {
     "data": {
      "text/plain": [
       "<matplotlib.axes._subplots.AxesSubplot at 0x1a1d5cf940>"
      ]
     },
     "execution_count": 64,
     "metadata": {},
     "output_type": "execute_result"
    },
    {
     "data": {
      "image/png": "[encoded data removed]",
      "text/plain": [
       "<Figure size 432x288 with 1 Axes>"
      ]
     },
     "metadata": {
      "needs_background": "light"
     },
     "output_type": "display_data"
    }
   ],
   "source": [
    "sns.barplot(x=\"joke#\",y=\"ratings\",data=user)"
   ]
  },
  {
   "cell_type": "code",
   "execution_count": null,
   "metadata": {},
   "outputs": [],
   "source": []
  },
  {
   "cell_type": "code",
   "execution_count": null,
   "metadata": {},
   "outputs": [],
   "source": []
  },
  {
   "cell_type": "code",
   "execution_count": null,
   "metadata": {},
   "outputs": [],
   "source": []
  },
  {
   "cell_type": "code",
   "execution_count": null,
   "metadata": {},
   "outputs": [],
   "source": []
  },
  {
   "cell_type": "code",
   "execution_count": null,
   "metadata": {},
   "outputs": [],
   "source": []
  },
  {
   "cell_type": "code",
   "execution_count": null,
   "metadata": {},
   "outputs": [],
   "source": []
  }
 ],
 "metadata": {
  "kernelspec": {
   "display_name": "Python 3",
   "language": "python",
   "name": "python3"
  },
  "language_info": {
   "codemirror_mode": {
    "name": "ipython",
    "version": 3
   },
   "file_extension": ".py",
   "mimetype": "text/x-python",
   "name": "python",
   "nbconvert_exporter": "python",
   "pygments_lexer": "ipython3",
   "version": "3.7.3"
  }
 },
 "nbformat": 4,
 "nbformat_minor": 2
}
